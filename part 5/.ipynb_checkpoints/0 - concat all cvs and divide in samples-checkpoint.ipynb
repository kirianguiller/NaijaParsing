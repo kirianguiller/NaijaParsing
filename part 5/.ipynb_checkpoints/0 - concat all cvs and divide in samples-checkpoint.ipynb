{
 "cells": [
  {
   "cell_type": "code",
   "execution_count": 7,
   "metadata": {},
   "outputs": [],
   "source": [
    "import os\n",
    "import conllu"
   ]
  },
  {
   "cell_type": "code",
   "execution_count": 4,
   "metadata": {},
   "outputs": [],
   "source": [
    "path_cvs_folder = \"/home/wran/Research/memoire/experimentations_notebooks/data/6_cvs\"\n",
    "\n",
    "name_agregated = \"agregated_cvs.conllu\"\n",
    "path_agregated_cvs = os.path.join(path_cvs_folder, name_agregated)"
   ]
  },
  {
   "cell_type": "code",
   "execution_count": 10,
   "metadata": {},
   "outputs": [],
   "source": [
    "with open(path_agregated_cvs, 'w', encoding=\"utf-8\") as outfile:\n",
    "    for file in os.listdir(path_cvs_folder):\n",
    "        if (file != name_agregated) and file.endswith(\".conllu\"):\n",
    "            with open(os.path.join(path_cvs_folder, file), 'r', encoding=\"utf-8\") as infile:\n",
    "                outfile.write(infile.read())"
   ]
  },
  {
   "cell_type": "code",
   "execution_count": 25,
   "metadata": {},
   "outputs": [],
   "source": [
    "list_name_files = []\n",
    "with open(path_agregated_cvs, 'r', encoding=\"utf-8\") as infile:\n",
    "    for sequence in conllu.parse(infile.read()):\n",
    "        name_file = sequence.metadata['sent_id'].split(\"__\")[0]\n",
    "        with open(os.path.join(path_cvs_folder, \"splitted\",name_file + '.conllu'), 'w+') as infile:\n",
    "            infile.write(sequence.serialize())\n",
    "        \n",
    "        #if file != name_agregated:\n",
    "         #   with open(os.path.join(path_cvs_folder, file), 'r', encoding=\"utf-8\") as infile:\n",
    "          #      outfile.write(infile.read())"
   ]
  },
  {
   "cell_type": "code",
   "execution_count": 16,
   "metadata": {},
   "outputs": [
    {
     "data": {
      "text/plain": [
       "'IBA_01_Fola-Lifestory_MG'"
      ]
     },
     "execution_count": 16,
     "metadata": {},
     "output_type": "execute_result"
    }
   ],
   "source": [
    "sequence.metadata['sent_id'].split(\"__\")[0]"
   ]
  },
  {
   "cell_type": "code",
   "execution_count": 20,
   "metadata": {},
   "outputs": [
    {
     "data": {
      "text/plain": [
       "84"
      ]
     },
     "execution_count": 20,
     "metadata": {},
     "output_type": "execute_result"
    }
   ],
   "source": [
    "len(set(list_name_files))"
   ]
  },
  {
   "cell_type": "code",
   "execution_count": null,
   "metadata": {},
   "outputs": [],
   "source": []
  }
 ],
 "metadata": {
  "kernelspec": {
   "display_name": "Python 3",
   "language": "python",
   "name": "python3"
  },
  "language_info": {
   "codemirror_mode": {
    "name": "ipython",
    "version": 3
   },
   "file_extension": ".py",
   "mimetype": "text/x-python",
   "name": "python",
   "nbconvert_exporter": "python",
   "pygments_lexer": "ipython3",
   "version": "3.8.2"
  }
 },
 "nbformat": 4,
 "nbformat_minor": 4
}
