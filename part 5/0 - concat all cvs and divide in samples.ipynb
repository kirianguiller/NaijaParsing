{
 "cells": [
  {
   "cell_type": "code",
   "execution_count": 1,
   "metadata": {},
   "outputs": [],
   "source": [
    "import os\n",
    "import conllu"
   ]
  },
  {
   "cell_type": "code",
   "execution_count": 18,
   "metadata": {},
   "outputs": [],
   "source": [
    "deep_relations = [\"fixed\", \"scrap\", \"agent\", \"lvc\", \"x\", \"relcl\", \"expl\"]\n",
    "\n",
    "def unormalize_deprel(deprel):\n",
    "    for dr in deep_relations:\n",
    "        if \":{}\".format(dr) in deprel:\n",
    "            deprel = deprel.replace(\":{}\".format(dr), \"@{}\".format(dr))\n",
    "    \n",
    "    if deprel == \"mod@num\":\n",
    "        deprel = \"mod:num\"\n",
    "    \n",
    "    if deprel == \"det@num\":\n",
    "        deprel = \"det:num\"\n",
    "    \n",
    "    return deprel"
   ]
  },
  {
   "cell_type": "code",
   "execution_count": 19,
   "metadata": {},
   "outputs": [],
   "source": [
    "path_cvs_folder = \"/home/wran/Research/memoire/experimentations_notebooks/data/6_cvs\"\n",
    "\n",
    "name_agregated = \"agregated_cvs.conllu\"\n",
    "path_agregated_cvs = os.path.join(path_cvs_folder, name_agregated)"
   ]
  },
  {
   "cell_type": "code",
   "execution_count": 20,
   "metadata": {},
   "outputs": [],
   "source": [
    "with open(path_agregated_cvs, 'w', encoding=\"utf-8\") as outfile:\n",
    "    for file in os.listdir(path_cvs_folder):\n",
    "        if (file != name_agregated) and file.endswith(\".conllu\"):\n",
    "            with open(os.path.join(path_cvs_folder, file), 'r', encoding=\"utf-8\") as infile:\n",
    "                for sequence in conllu.parse(infile.read()):\n",
    "                    for token in sequence:\n",
    "                        token[\"deprel\"] = unormalize_deprel(token[\"deprel\"])\n",
    "                        token[\"misc\"][\"deprel_main_pred\"] = unormalize_deprel(token[\"misc\"][\"deprel_main_pred\"])\n",
    "                    \n",
    "                    \n",
    "                    outfile.write(sequence.serialize())"
   ]
  },
  {
   "cell_type": "code",
   "execution_count": 21,
   "metadata": {},
   "outputs": [],
   "source": [
    "\n",
    "splitted_folder = os.path.join(path_cvs_folder, \"splitted\")\n",
    "if not os.path.isdir(splitted_folder):\n",
    "    os.mkdir(splitted_folder)\n",
    "for f in os.listdir(splitted_folder):\n",
    "    os.remove(os.path.join(splitted_folder,f))\n",
    "list_name_files = []\n",
    "with open(path_agregated_cvs, 'r', encoding=\"utf-8\") as infile:\n",
    "    for sequence in conllu.parse(infile.read()):\n",
    "        name_file = sequence.metadata['sent_id'].split(\"__\")[0]\n",
    "        with open(os.path.join(splitted_folder,name_file + '.conllu'), 'a+') as infile:\n",
    "            infile.write(sequence.serialize())\n",
    "        \n",
    "        #if file != name_agregated:\n",
    "         #   with open(os.path.join(path_cvs_folder, file), 'r', encoding=\"utf-8\") as infile:\n",
    "          #      outfile.write(infile.read())"
   ]
  },
  {
   "cell_type": "code",
   "execution_count": null,
   "metadata": {},
   "outputs": [],
   "source": []
  }
 ],
 "metadata": {
  "kernelspec": {
   "display_name": "Python 3",
   "language": "python",
   "name": "python3"
  },
  "language_info": {
   "codemirror_mode": {
    "name": "ipython",
    "version": 3
   },
   "file_extension": ".py",
   "mimetype": "text/x-python",
   "name": "python",
   "nbconvert_exporter": "python",
   "pygments_lexer": "ipython3",
   "version": "3.8.2"
  }
 },
 "nbformat": 4,
 "nbformat_minor": 4
}
