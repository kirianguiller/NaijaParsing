{
 "cells": [
  {
   "cell_type": "code",
   "execution_count": 1,
   "metadata": {},
   "outputs": [],
   "source": [
    "import os\n",
    "\n",
    "import pandas as pd\n",
    "import numpy as np\n",
    "\n",
    "import matplotlib.pyplot as plt\n",
    "import matplotlib as mpl\n",
    "\n",
    "import brewer2mpl"
   ]
  },
  {
   "cell_type": "code",
   "execution_count": 3,
   "metadata": {},
   "outputs": [],
   "source": [
    "# brewer2mpl.get_map args: set name  set type  number of colors\n",
    "bmap = brewer2mpl.get_map('Set1', 'qualitative', 4)\n",
    "colors = bmap.mpl_colors\n",
    "\n",
    "params = {\n",
    "   'axes.labelsize': 8,\n",
    " #  'text.fontsize': 8,\n",
    "   'legend.fontsize': 10,\n",
    "   'xtick.labelsize': 10,\n",
    "   'ytick.labelsize': 10,\n",
    "   'text.usetex': False,\n",
    "   'figure.figsize': [10, 5]\n",
    "   }\n",
    "mpl.rcParams.update(params)"
   ]
  },
  {
   "cell_type": "code",
   "execution_count": 16,
   "metadata": {},
   "outputs": [
    {
     "data": {
      "text/plain": [
       "['fullhistory-sud_naija_-seed_1-from_sud_english_pretrain_bert-type_camembert-seed_1_history.csv',\n",
       " 'fullhistory-sud_naija_-seed_1-from_sud_english_pretrain_bert-type_bert-seed_1_history.csv',\n",
       " 'sud_naija-type_bert-base-cased-reinit_0-seed_1_history.csv',\n",
       " 'fullhistory-sud_naija_-seed_1-from_pretrain_sud_en_type_bert-base-multilingual-cased-seed_1_history.csv']"
      ]
     },
     "execution_count": 16,
     "metadata": {},
     "output_type": "execute_result"
    }
   ],
   "source": [
    "path_folder = \"./experimentations/4_adaptation/model\"\n",
    "os.listdir(path_folder)"
   ]
  },
  {
   "cell_type": "code",
   "execution_count": 28,
   "metadata": {},
   "outputs": [],
   "source": [
    "bert_modeles = {\n",
    "     \"avec pré-entrainement\"                   : 'fullhistory-sud_naija_-seed_1-from_sud_english_pretrain_bert-type_bert-seed_1_history.csv',\n",
    "    # \"BERT multilingue\"               : 'fullhistory-sud_naija_-seed_1-from_pretrain_sud_en_type_bert-base-multilingual-cased-seed_1_history.csv',\n",
    "     #\"CamemBERT\"               : 'fullhistory-sud_naija_-seed_1-from_sud_english_pretrain_bert-type_camembert-seed_1_history.csv',\n",
    "     \"sans pré-entrainement\"    :  'sud_naija-type_bert-base-cased-reinit_0-seed_1_history.csv'\n",
    "}"
   ]
  },
  {
   "cell_type": "code",
   "execution_count": 29,
   "metadata": {},
   "outputs": [
    {
     "name": "stdout",
     "output_type": "stream",
     "text": [
      "avec pré-entrainement\n",
      "0.9007194244604316\n",
      "\n",
      "sans pré-entrainement\n",
      "0.8968025579536371\n",
      "\n"
     ]
    }
   ],
   "source": [
    "for name, file_name in bert_modeles.items():\n",
    "    path_model = os.path.join(path_folder, file_name)\n",
    "    df_model = pd.read_csv(path_model, delimiter='\\t')\n",
    "  #  df_model['n_epoch'] = df_model['n_epoch'] +1\n",
    "    print(name)\n",
    "    print(df_model[\"LAS_epoch\"].max())\n",
    "    print()\n"
   ]
  },
  {
   "cell_type": "code",
   "execution_count": 30,
   "metadata": {
    "scrolled": false
   },
   "outputs": [
    {
     "data": {
      "image/png": "[encoded data removed]",
      "text/plain": [
       "<Figure size 720x360 with 1 Axes>"
      ]
     },
     "metadata": {
      "needs_background": "light"
     },
     "output_type": "display_data"
    }
   ],
   "source": [
    "# put this _before_ the calls to plot and fill_between\n",
    "plt.axes(frameon=0)\n",
    "plt.grid(color=\"0.9\")\n",
    "\n",
    "df_tableau = pd.DataFrame(columns = ['modèle' ,'LAS', 'UAS', 'Labeling score', 'POS score'])\n",
    "\n",
    "x_max = 10\n",
    "seed = 1\n",
    "for i, (name, file_name) in enumerate(bert_modeles.items()):\n",
    "    if \"freeze\" in file_name:\n",
    "        file_name = file_name.replace(\"seed_1\", \"seed_{}\".format(seed))\n",
    "    path_model = os.path.join(path_folder, file_name)\n",
    "    df_model = pd.read_csv(path_model, delimiter='\\t')\n",
    "    if (\"\" not in name) :\n",
    "        df_model['n_epoch'] = df_model['n_epoch'] +1\n",
    "        df_model.loc[-1] = [0] * len(df_model.columns)\n",
    "        df_model.index = df_model.index + 1  # shifting index\n",
    "        df_model.sort_index(inplace=True) \n",
    "    \n",
    "    df_tableau.loc[name] = [name] + list(df_model[['LAS_epoch', 'acc_head_epoch', 'acc_deprel_main_epoch', 'acc_pos_epoch']].iloc[df_model.idxmax()['LAS_epoch']])\n",
    "    \n",
    "    if \"freeze\" in name :\n",
    "        linestyle='--'\n",
    "    else:\n",
    "        linestyle='-'\n",
    "\n",
    "    plt.plot(df_model.iloc[:x_max]['n_epoch'], df_model.iloc[:x_max]['LAS_epoch'], linewidth=2, linestyle=linestyle,color=colors[i])\n",
    "\n",
    "    \n",
    "    \n",
    "df_tableau = df_tableau.set_index(\"modèle\")\n",
    "\n",
    "legend = plt.legend(bert_modeles.keys(), loc=4);\n",
    "plt.xlabel('entrainement (epoch)')\n",
    "plt.ylabel('LAS score (ratio)')\n",
    "frame = legend.get_frame()\n",
    "frame.set_facecolor('0.9')\n",
    "frame.set_edgecolor('0.9')\n",
    "title = plt.title(\"Effet du pré-entrainement de BERT+parser sur les treebanks de l'anglais (BERT anglais)\")\n",
    "\n",
    "x_range = int(np.ceil(x_max/10))\n",
    "plt.xticks(np.arange(0, x_max, x_range))\n",
    "plt.xlim([0,x_max])\n",
    "\n",
    "plt.yticks(np.arange(0, 1, 0.1))\n",
    "\n",
    "for ext_file in ['png', 'svg']:\n",
    "    plt.savefig('4_pretraining_parser_anglais_{}_epochs_seed_{}.'.format(x_max, seed) + ext_file, format=ext_file)"
   ]
  },
  {
   "cell_type": "code",
   "execution_count": 24,
   "metadata": {},
   "outputs": [
    {
     "data": {
      "text/html": [
       "<div>\n",
       "<style scoped>\n",
       "    .dataframe tbody tr th:only-of-type {\n",
       "        vertical-align: middle;\n",
       "    }\n",
       "\n",
       "    .dataframe tbody tr th {\n",
       "        vertical-align: top;\n",
       "    }\n",
       "\n",
       "    .dataframe thead th {\n",
       "        text-align: right;\n",
       "    }\n",
       "</style>\n",
       "<table border=\"1\" class=\"dataframe\">\n",
       "  <thead>\n",
       "    <tr style=\"text-align: right;\">\n",
       "      <th></th>\n",
       "      <th>LAS</th>\n",
       "      <th>UAS</th>\n",
       "      <th>Labeling score</th>\n",
       "      <th>POS score</th>\n",
       "    </tr>\n",
       "    <tr>\n",
       "      <th>modèle</th>\n",
       "      <th></th>\n",
       "      <th></th>\n",
       "      <th></th>\n",
       "      <th></th>\n",
       "    </tr>\n",
       "  </thead>\n",
       "  <tbody>\n",
       "    <tr>\n",
       "      <th>BERT anglais</th>\n",
       "      <td>0.900719</td>\n",
       "      <td>0.930855</td>\n",
       "      <td>0.956914</td>\n",
       "      <td>0.980815</td>\n",
       "    </tr>\n",
       "    <tr>\n",
       "      <th>BERT (without pre-training)</th>\n",
       "      <td>0.896803</td>\n",
       "      <td>0.929576</td>\n",
       "      <td>0.952598</td>\n",
       "      <td>0.981855</td>\n",
       "    </tr>\n",
       "  </tbody>\n",
       "</table>\n",
       "</div>"
      ],
      "text/plain": [
       "                                  LAS       UAS  Labeling score  POS score\n",
       "modèle                                                                    \n",
       "BERT anglais                 0.900719  0.930855        0.956914   0.980815\n",
       "BERT (without pre-training)  0.896803  0.929576        0.952598   0.981855"
      ]
     },
     "execution_count": 24,
     "metadata": {},
     "output_type": "execute_result"
    }
   ],
   "source": [
    "df_tableau"
   ]
  },
  {
   "cell_type": "code",
   "execution_count": null,
   "metadata": {},
   "outputs": [],
   "source": []
  }
 ],
 "metadata": {
  "kernelspec": {
   "display_name": "Python 3",
   "language": "python",
   "name": "python3"
  },
  "language_info": {
   "codemirror_mode": {
    "name": "ipython",
    "version": 3
   },
   "file_extension": ".py",
   "mimetype": "text/x-python",
   "name": "python",
   "nbconvert_exporter": "python",
   "pygments_lexer": "ipython3",
   "version": "3.8.2"
  }
 },
 "nbformat": 4,
 "nbformat_minor": 4
}
