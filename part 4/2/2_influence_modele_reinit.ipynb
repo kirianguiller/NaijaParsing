{
 "cells": [
  {
   "cell_type": "code",
   "execution_count": 1,
   "metadata": {},
   "outputs": [],
   "source": [
    "import os\n",
    "import matplotlib.pyplot as plt\n",
    "import pandas as pd"
   ]
  },
  {
   "cell_type": "code",
   "execution_count": 4,
   "metadata": {},
   "outputs": [
    {
     "data": {
      "text/plain": [
       "['sud_naija_bert-type_mbert-seed_1_history.csv',\n",
       " 'sud_naija-type_mbert-reinit_1-seed_1_history.csv',\n",
       " 'sud_naija_bert-type_bert-base-chinese-reinit_1-seed_1_history.csv',\n",
       " 'sud_naija_bert-type_bert-base-chinese-seed_1_history.csv',\n",
       " 'sud_naija-type_flaubert_base_cased-reinit_0-seed_1_history.csv',\n",
       " 'sud_naija-type_flaubert_small_cased-reinit_0-seed_1_history.csv',\n",
       " 'sud_naija-increment-type_bert-reinit_0-seed_1_history.csv',\n",
       " 'sud_naija-type_flaubert_large_cased-reinit_1-seed_1_history.csv',\n",
       " 'sud_naija-type_camembert-reinit_1-seed_1_history.csv',\n",
       " 'sud_naija-type_flaubert_base_cased-reinit_1-seed_1_history.csv',\n",
       " 'sud_naija-type_flaubert_large_cased-reinit_0-seed_1_history.csv',\n",
       " 'sud_naija_bert-type_bert-reinit_1-seed_1_history.csv',\n",
       " 'sud_naija_bert-type_bert-seed_1_history.csv',\n",
       " 'sud_naija-type_distilbert-base-multilingual-cased-reinit_1-seed_1_history.csv',\n",
       " 'sud_naija-type_distilbert-base-multilingual-cased-reinit_0-seed_1_history.csv',\n",
       " 'sud_naija_bert-type_camembert-seed_1_history.csv',\n",
       " 'sud_naija-type_flaubert_small_cased-reinit_1-seed_1_history.csv']"
      ]
     },
     "execution_count": 4,
     "metadata": {},
     "output_type": "execute_result"
    }
   ],
   "source": [
    "path_folder = \"./experimentations/2_influence_modele\"\n",
    "os.listdir('./experimentations/2_influence_modele')"
   ]
  },
  {
   "cell_type": "code",
   "execution_count": 8,
   "metadata": {},
   "outputs": [],
   "source": [
    "bert_modeles = {\n",
    "     \"BERT multilingue\"                : 'sud_naija_bert-type_mbert-seed_1_history.csv',\n",
    "     \"BERT multilingue (reinit)\"       : 'sud_naija-type_mbert-reinit_1-seed_1_history.csv',\n",
    "     \"BERT chinois\"                    :'sud_naija_bert-type_bert-base-chinese-seed_1_history.csv',\n",
    "     \"BERT chinois (reinit)\"           :'sud_naija_bert-type_bert-base-chinese-reinit_1-seed_1_history.csv',\n",
    "     \"FlauBERT small\"                  :'sud_naija-type_flaubert_small_cased-reinit_0-seed_1_history.csv',\n",
    "     \"FlauBERT small (reinit)\"         :'sud_naija-type_flaubert_small_cased-reinit_1-seed_1_history.csv',\n",
    "     \"FlauBERT base\"                   :'sud_naija-type_flaubert_base_cased-reinit_0-seed_1_history.csv',\n",
    "     \"FlauBERT base (reinit)\"          :'sud_naija-type_flaubert_base_cased-reinit_1-seed_1_history.csv',\n",
    "     \"FlauBERT large\"                  :'sud_naija-type_flaubert_large_cased-reinit_0-seed_1_history.csv',\n",
    "     \"FlauBERT large (reinit)\"         :'sud_naija-type_flaubert_large_cased-reinit_1-seed_1_history.csv',\n",
    "     \"BERT anglais\"                    :'sud_naija_bert-type_bert-seed_1_history.csv',\n",
    "     \"BERT anglais (reinit)\"           :'sud_naija_bert-type_bert-reinit_1-seed_1_history.csv',\n",
    "     \"DistilBERT multilingue\"          : 'sud_naija-type_distilbert-base-multilingual-cased-reinit_0-seed_1_history.csv',\n",
    "     \"DistilBERT multilingue (reinit)\" : 'sud_naija-type_distilbert-base-multilingual-cased-reinit_1-seed_1_history.csv',\n",
    "     \"CamemBERT\"                       : 'sud_naija_bert-type_camembert-seed_1_history.csv',\n",
    "     \"CamemBERT (reinit)\"              :'sud_naija-type_camembert-reinit_1-seed_1_history.csv',\n",
    " \n",
    "}"
   ]
  },
  {
   "cell_type": "code",
   "execution_count": 13,
   "metadata": {},
   "outputs": [
    {
     "name": "stdout",
     "output_type": "stream",
     "text": [
      "BERT multilingue\n",
      "0.8963229416466827\n",
      "\n",
      "BERT multilingue (reinit)\n",
      "0.8089528377298162\n",
      "\n",
      "BERT chinois\n",
      "0.8827338129496403\n",
      "\n",
      "BERT chinois (reinit)\n",
      "0.7993605115907274\n",
      "\n",
      "FlauBERT small\n",
      "0.8788169464428457\n",
      "\n",
      "FlauBERT small (reinit)\n",
      "0.7943245403677058\n",
      "\n",
      "FlauBERT base\n",
      "0.8884892086330936\n",
      "\n",
      "FlauBERT base (reinit)\n",
      "0.7968824940047962\n",
      "\n",
      "FlauBERT large\n",
      "0.8982414068745004\n",
      "\n",
      "FlauBERT large (reinit)\n",
      "0.7752198241406875\n",
      "\n",
      "BERT anglais\n",
      "0.8905675459632294\n",
      "\n",
      "BERT anglais (reinit)\n",
      "0.8133493205435651\n",
      "\n",
      "DistilBERT multilingue\n",
      "0.8852917665867306\n",
      "\n",
      "DistilBERT multilingue (reinit)\n",
      "0.7974420463629097\n",
      "\n",
      "CamemBERT\n",
      "0.8848920863309353\n",
      "\n",
      "CamemBERT (reinit)\n",
      "0.7979216626698641\n",
      "\n"
     ]
    }
   ],
   "source": [
    "for name, file_name in bert_modeles.items():\n",
    "    path_model = os.path.join(path_folder, file_name)\n",
    "    df_model = pd.read_csv(path_model, delimiter='\\t')\n",
    "    df_model['n_epoch'] = df_model['n_epoch'] +1\n",
    "    print(name)\n",
    "    print(df_model[\"LAS_epoch\"].max())\n",
    "    print()"
   ]
  },
  {
   "cell_type": "code",
   "execution_count": 3,
   "metadata": {},
   "outputs": [],
   "source": [
    "name_mbert_reinit = \"sud_naija-type_mbert-reinit_1-seed_1_history.csv\"\n",
    "name_bert = 'sud_naija_bert-type_bert-seed_1_history.csv'\n",
    "name_mbert = 'sud_naija_bert-type_mbert-seed_1_history.csv'\n",
    "name_chinesebert = 'sud_naija_bert-type_bert-base-chinese-seed_1_history.csv'\n",
    "name_camembert = 'sud_naija_bert-type_camembert-seed_1_history.csv'\n",
    "\n",
    "path_mbert_reinit = os.path.join(path_folder, name_mbert_reinit)\n",
    "path_mbert = os.path.join(path_folder, name_mbert)\n",
    "path_chinesebert = os.path.join(path_folder, name_chinesebert)\n",
    "path_bert = os.path.join(path_folder, name_bert)\n",
    "path_camembert = os.path.join(path_folder, name_camembert)\n"
   ]
  },
  {
   "cell_type": "code",
   "execution_count": 4,
   "metadata": {
    "scrolled": true
   },
   "outputs": [],
   "source": [
    "dfbert = pd.read_csv(path_bert, delimiter='\\t')\n",
    "dfbert['n_epoch'] = dfbert['n_epoch'] +1"
   ]
  },
  {
   "cell_type": "code",
   "execution_count": 5,
   "metadata": {},
   "outputs": [],
   "source": [
    "df_camembert = pd.read_csv(path_camembert, delimiter='\\t')\n",
    "df_camembert['n_epoch'] = df_camembert['n_epoch'] +1"
   ]
  },
  {
   "cell_type": "code",
   "execution_count": 6,
   "metadata": {},
   "outputs": [],
   "source": [
    "dfmbert = pd.read_csv(path_mbert, delimiter='\\t')\n",
    "dfmbert['n_epoch'] = dfmbert['n_epoch'] +1"
   ]
  },
  {
   "cell_type": "code",
   "execution_count": 7,
   "metadata": {},
   "outputs": [],
   "source": [
    "dfchinesebert = pd.read_csv(path_chinesebert, delimiter='\\t')\n",
    "dfchinesebert['n_epoch'] = dfchinesebert['n_epoch'] +1"
   ]
  },
  {
   "cell_type": "code",
   "execution_count": 8,
   "metadata": {
    "scrolled": true
   },
   "outputs": [
    {
     "data": {
      "text/plain": [
       "n_epoch                   37.000000\n",
       "LAS_epoch                  0.882734\n",
       "LAS_main_epoch             0.882734\n",
       "LAS_aux_epoch              0.882734\n",
       "acc_head_epoch             0.921503\n",
       "acc_deprel_main_epoch      0.942926\n",
       "acc_deprel_aux_epoch       0.942926\n",
       "acc_pos_epoch              0.969704\n",
       "loss_head_epoch            0.966718\n",
       "loss_deprel_main_epoch     0.506102\n",
       "loss_deprel_aux_epoch      0.506102\n",
       "dtype: float64"
      ]
     },
     "execution_count": 8,
     "metadata": {},
     "output_type": "execute_result"
    }
   ],
   "source": [
    "dfchinesebert.max()"
   ]
  },
  {
   "cell_type": "code",
   "execution_count": 9,
   "metadata": {},
   "outputs": [],
   "source": [
    "import matplotlib.pyplot as plt\n",
    "import matplotlib as mpl\n",
    "\n",
    "import numpy as np"
   ]
  },
  {
   "cell_type": "code",
   "execution_count": 10,
   "metadata": {
    "scrolled": true
   },
   "outputs": [],
   "source": [
    "params = {\n",
    "   'axes.labelsize': 8,\n",
    " #  'text.fontsize': 8,\n",
    "   'legend.fontsize': 10,\n",
    "   'xtick.labelsize': 10,\n",
    "   'ytick.labelsize': 10,\n",
    "   'text.usetex': False,\n",
    "   'figure.figsize': [10, 5]\n",
    "   }\n",
    "mpl.rcParams.update(params)"
   ]
  },
  {
   "cell_type": "code",
   "execution_count": 11,
   "metadata": {},
   "outputs": [],
   "source": [
    "import brewer2mpl\n",
    "\n",
    "# brewer2mpl.get_map args: set name  set type  number of colors\n",
    "bmap = brewer2mpl.get_map('Set1', 'qualitative', 4)\n",
    "colors = bmap.mpl_colors"
   ]
  },
  {
   "cell_type": "code",
   "execution_count": 12,
   "metadata": {},
   "outputs": [
    {
     "data": {
      "image/png": "[encoded data removed]",
      "text/plain": [
       "<Figure size 720x360 with 1 Axes>"
      ]
     },
     "metadata": {
      "needs_background": "light"
     },
     "output_type": "display_data"
    }
   ],
   "source": [
    "# put this _before_ the calls to plot and fill_between\n",
    "plt.axes(frameon=0)\n",
    "plt.grid(color=\"0.9\")\n",
    "\n",
    "plt.plot(dfmbert.iloc[:30]['n_epoch'], dfmbert.iloc[:30]['LAS_epoch'], linewidth=2, color=colors[0])\n",
    "plt.plot(dfbert.iloc[:30]['n_epoch'], dfbert.iloc[:30]['LAS_epoch'], linewidth=2, linestyle='--', color=colors[1])\n",
    "plt.plot(dfchinesebert.iloc[:30]['n_epoch'], dfchinesebert.iloc[:30]['LAS_epoch'], linewidth=2, linestyle='-.', color=colors[2])\n",
    "plt.plot(df_camembert.iloc[:30]['n_epoch'], df_camembert.iloc[:30]['LAS_epoch'], linewidth=2, linestyle='-.', color=colors[3])\n",
    "\n",
    "legend = plt.legend([\"multilingual BERT\",\"english BERT\", \"chinese BERT\", \"french RoBERTa\"], loc=4);\n",
    "frame = legend.get_frame()\n",
    "frame.set_facecolor('0.9')\n",
    "frame.set_edgecolor('0.9')\n",
    "title = plt.title(\"LAS pour differentes langues\")\n",
    "plt.xticks(np.arange(0, 10, 1))\n",
    "plt.xlim([0,10])\n",
    "\n",
    "plt.yticks(np.arange(0, 1, 0.1))\n",
    "\n",
    "for ext_file in ['png', 'svg']:\n",
    "    plt.savefig('2_LAS mbert_bert_cam_epoch_1_10.' + ext_file, format=ext_file)"
   ]
  },
  {
   "cell_type": "code",
   "execution_count": 13,
   "metadata": {},
   "outputs": [
    {
     "name": "stdout",
     "output_type": "stream",
     "text": [
      "0.6314948041566747\n",
      "0.8677058353317346\n",
      "0.8857713828936851\n",
      "0.8914468425259792\n",
      "0.8940847322142286\n"
     ]
    }
   ],
   "source": [
    "for n_epoch in [1, 5, 10, 20, 30]:\n",
    "    print(dfmbert[:n_epoch].max()['LAS_epoch'])"
   ]
  },
  {
   "cell_type": "code",
   "execution_count": 14,
   "metadata": {},
   "outputs": [
    {
     "name": "stdout",
     "output_type": "stream",
     "text": [
      "0.5310151878497202\n",
      "0.8607513988808952\n",
      "0.8796163069544365\n",
      "0.8905675459632294\n",
      "0.8905675459632294\n"
     ]
    }
   ],
   "source": [
    "for n_epoch in [1, 5, 10, 20, 30]:\n",
    "    print(dfbert[:n_epoch].max()['LAS_epoch'])"
   ]
  },
  {
   "cell_type": "code",
   "execution_count": 15,
   "metadata": {},
   "outputs": [
    {
     "name": "stdout",
     "output_type": "stream",
     "text": [
      "0.6114308553157474\n",
      "0.8392486011191047\n",
      "0.8620303756994404\n",
      "0.8771382893685052\n",
      "0.8827338129496403\n"
     ]
    }
   ],
   "source": [
    "for n_epoch in [1, 5, 10, 20, 30]:\n",
    "    print(dfchinesebert[:n_epoch].max()['LAS_epoch'])"
   ]
  },
  {
   "cell_type": "code",
   "execution_count": 16,
   "metadata": {},
   "outputs": [
    {
     "name": "stdout",
     "output_type": "stream",
     "text": [
      "0.28281374900079936\n",
      "0.7884892086330936\n",
      "0.8569144684252598\n",
      "0.8752198241406874\n",
      "0.8804156674660272\n"
     ]
    }
   ],
   "source": [
    "for n_epoch in [1, 5, 10, 20, 30]:\n",
    "    print(df_camembert[:n_epoch].max()['LAS_epoch'])"
   ]
  },
  {
   "cell_type": "code",
   "execution_count": null,
   "metadata": {},
   "outputs": [],
   "source": []
  },
  {
   "cell_type": "code",
   "execution_count": 17,
   "metadata": {},
   "outputs": [
    {
     "data": {
      "text/plain": [
       "n_epoch                   30.000000\n",
       "LAS_epoch                  0.890568\n",
       "LAS_main_epoch             0.890568\n",
       "LAS_aux_epoch              0.890568\n",
       "acc_head_epoch             0.927178\n",
       "acc_deprel_main_epoch      0.949880\n",
       "acc_deprel_aux_epoch       0.949880\n",
       "acc_pos_epoch              0.980895\n",
       "loss_head_epoch            1.171948\n",
       "loss_deprel_main_epoch     0.525981\n",
       "loss_deprel_aux_epoch      0.525981\n",
       "dtype: float64"
      ]
     },
     "execution_count": 17,
     "metadata": {},
     "output_type": "execute_result"
    }
   ],
   "source": [
    "dfbert[:30].max()"
   ]
  },
  {
   "cell_type": "code",
   "execution_count": 18,
   "metadata": {},
   "outputs": [
    {
     "name": "stdout",
     "output_type": "stream",
     "text": [
      "39\n"
     ]
    },
    {
     "data": {
      "text/plain": [
       "n_epoch                   30.000000\n",
       "LAS_epoch                  0.880416\n",
       "LAS_main_epoch             0.880416\n",
       "LAS_aux_epoch              0.880416\n",
       "acc_head_epoch             0.917746\n",
       "acc_deprel_main_epoch      0.947962\n",
       "acc_deprel_aux_epoch       0.947962\n",
       "acc_pos_epoch              0.950520\n",
       "loss_head_epoch            1.689229\n",
       "loss_deprel_main_epoch     1.215800\n",
       "loss_deprel_aux_epoch      1.215800\n",
       "dtype: float64"
      ]
     },
     "execution_count": 18,
     "metadata": {},
     "output_type": "execute_result"
    }
   ],
   "source": [
    "print(df_camembert['n_epoch'].max())\n",
    "df_camembert[:30].max()"
   ]
  },
  {
   "cell_type": "code",
   "execution_count": 19,
   "metadata": {},
   "outputs": [
    {
     "name": "stdout",
     "output_type": "stream",
     "text": [
      "37\n"
     ]
    },
    {
     "data": {
      "text/plain": [
       "n_epoch                   30.000000\n",
       "LAS_epoch                  0.882734\n",
       "LAS_main_epoch             0.882734\n",
       "LAS_aux_epoch              0.882734\n",
       "acc_head_epoch             0.921503\n",
       "acc_deprel_main_epoch      0.942926\n",
       "acc_deprel_aux_epoch       0.942926\n",
       "acc_pos_epoch              0.969704\n",
       "loss_head_epoch            0.966718\n",
       "loss_deprel_main_epoch     0.506102\n",
       "loss_deprel_aux_epoch      0.506102\n",
       "dtype: float64"
      ]
     },
     "execution_count": 19,
     "metadata": {},
     "output_type": "execute_result"
    }
   ],
   "source": [
    "print(dfchinesebert['n_epoch'].max())\n",
    "dfchinesebert[:30].max()"
   ]
  },
  {
   "cell_type": "code",
   "execution_count": 22,
   "metadata": {},
   "outputs": [
    {
     "name": "stdout",
     "output_type": "stream",
     "text": [
      "\\begin{tabular}{lrrrrrrrrrrr}\n",
      "\\toprule\n",
      "{} &  n\\_epoch &  LAS\\_epoch &  LAS\\_main\\_epoch &  LAS\\_aux\\_epoch &  acc\\_head\\_epoch &  acc\\_deprel\\_main\\_epoch &  acc\\_deprel\\_aux\\_epoch &  acc\\_pos\\_epoch &  loss\\_head\\_epoch &  loss\\_deprel\\_main\\_epoch &  loss\\_deprel\\_aux\\_epoch \\\\\n",
      "\\midrule\n",
      "0 &        1 &   0.611431 &        0.611431 &       0.611431 &        0.674021 &               0.857554 &              0.857554 &       0.936851 &         0.966718 &                0.506102 &               0.506102 \\\\\n",
      "1 &        2 &   0.757874 &        0.757874 &       0.757874 &        0.817426 &               0.902478 &              0.902478 &       0.953078 &         0.583771 &                0.344726 &               0.344726 \\\\\n",
      "2 &        3 &   0.802158 &        0.802158 &       0.802158 &        0.854277 &               0.918945 &              0.918945 &       0.958753 &         0.515815 &                0.291988 &               0.291988 \\\\\n",
      "\\bottomrule\n",
      "\\end{tabular}\n",
      "\n"
     ]
    }
   ],
   "source": [
    "print(dfchinesebert[:3].to_latex())"
   ]
  },
  {
   "cell_type": "code",
   "execution_count": 36,
   "metadata": {},
   "outputs": [
    {
     "name": "stdout",
     "output_type": "stream",
     "text": [
      "[0.6315, 0.8677, 0.8858, 0.8914]\n",
      "[0.531, 0.8608, 0.8796, 0.8906]\n",
      "[0.6114, 0.8392, 0.862, 0.8771]\n",
      "[0.2828, 0.7885, 0.8569, 0.8752]\n"
     ]
    }
   ],
   "source": [
    "list_modele_name = ['BERT multilingue', 'BERT anglais', 'BERT chinois', 'CamemBERT (français)']\n",
    "list_modele = [dfmbert, dfbert, dfchinesebert, df_camembert]\n",
    "\n",
    "table2 = pd.DataFrame(columns=['modèles', 'epoch 1', 'epoch 5', 'epoch 10', 'epoch 20'])\n",
    "for i, (modele_name, modele) in enumerate(zip(list_modele_name, list_modele)):\n",
    "    list_scores_by_epoch = []\n",
    "    for n_epoch in [1, 5, 10, 20]:\n",
    "        list_scores_by_epoch.append(round(modele[:n_epoch].max()['LAS_epoch'], 4))\n",
    "    list_scores_by_epoch\n",
    "    print(list_scores_by_epoch)\n",
    "    table2.loc[i] = [modele_name] + list_scores_by_epoch"
   ]
  },
  {
   "cell_type": "code",
   "execution_count": 39,
   "metadata": {},
   "outputs": [
    {
     "data": {
      "text/html": [
       "<div>\n",
       "<style scoped>\n",
       "    .dataframe tbody tr th:only-of-type {\n",
       "        vertical-align: middle;\n",
       "    }\n",
       "\n",
       "    .dataframe tbody tr th {\n",
       "        vertical-align: top;\n",
       "    }\n",
       "\n",
       "    .dataframe thead th {\n",
       "        text-align: right;\n",
       "    }\n",
       "</style>\n",
       "<table border=\"1\" class=\"dataframe\">\n",
       "  <thead>\n",
       "    <tr style=\"text-align: right;\">\n",
       "      <th></th>\n",
       "      <th>epoch 1</th>\n",
       "      <th>epoch 5</th>\n",
       "      <th>epoch 10</th>\n",
       "      <th>epoch 20</th>\n",
       "    </tr>\n",
       "    <tr>\n",
       "      <th>modèles</th>\n",
       "      <th></th>\n",
       "      <th></th>\n",
       "      <th></th>\n",
       "      <th></th>\n",
       "    </tr>\n",
       "  </thead>\n",
       "  <tbody>\n",
       "    <tr>\n",
       "      <th>BERT multilingue</th>\n",
       "      <td>0.6315</td>\n",
       "      <td>0.8677</td>\n",
       "      <td>0.8858</td>\n",
       "      <td>0.8914</td>\n",
       "    </tr>\n",
       "    <tr>\n",
       "      <th>BERT anglais</th>\n",
       "      <td>0.5310</td>\n",
       "      <td>0.8608</td>\n",
       "      <td>0.8796</td>\n",
       "      <td>0.8906</td>\n",
       "    </tr>\n",
       "    <tr>\n",
       "      <th>BERT chinois</th>\n",
       "      <td>0.6114</td>\n",
       "      <td>0.8392</td>\n",
       "      <td>0.8620</td>\n",
       "      <td>0.8771</td>\n",
       "    </tr>\n",
       "    <tr>\n",
       "      <th>CamemBERT (français)</th>\n",
       "      <td>0.2828</td>\n",
       "      <td>0.7885</td>\n",
       "      <td>0.8569</td>\n",
       "      <td>0.8752</td>\n",
       "    </tr>\n",
       "  </tbody>\n",
       "</table>\n",
       "</div>"
      ],
      "text/plain": [
       "                      epoch 1  epoch 5  epoch 10  epoch 20\n",
       "modèles                                                   \n",
       "BERT multilingue       0.6315   0.8677    0.8858    0.8914\n",
       "BERT anglais           0.5310   0.8608    0.8796    0.8906\n",
       "BERT chinois           0.6114   0.8392    0.8620    0.8771\n",
       "CamemBERT (français)   0.2828   0.7885    0.8569    0.8752"
      ]
     },
     "execution_count": 39,
     "metadata": {},
     "output_type": "execute_result"
    }
   ],
   "source": [
    "table2.set_index('modèles')"
   ]
  },
  {
   "cell_type": "code",
   "execution_count": 28,
   "metadata": {},
   "outputs": [
    {
     "data": {
      "text/html": [
       "<div>\n",
       "<style scoped>\n",
       "    .dataframe tbody tr th:only-of-type {\n",
       "        vertical-align: middle;\n",
       "    }\n",
       "\n",
       "    .dataframe tbody tr th {\n",
       "        vertical-align: top;\n",
       "    }\n",
       "\n",
       "    .dataframe thead th {\n",
       "        text-align: right;\n",
       "    }\n",
       "</style>\n",
       "<table border=\"1\" class=\"dataframe\">\n",
       "  <thead>\n",
       "    <tr style=\"text-align: right;\">\n",
       "      <th></th>\n",
       "      <th>modèles</th>\n",
       "      <th>epoch 1</th>\n",
       "      <th>epoch 5</th>\n",
       "      <th>epoch 10</th>\n",
       "      <th>epoch 20</th>\n",
       "    </tr>\n",
       "  </thead>\n",
       "  <tbody>\n",
       "    <tr>\n",
       "      <th>0</th>\n",
       "      <td>1</td>\n",
       "      <td>2</td>\n",
       "      <td>3</td>\n",
       "      <td>4</td>\n",
       "      <td>5</td>\n",
       "    </tr>\n",
       "  </tbody>\n",
       "</table>\n",
       "</div>"
      ],
      "text/plain": [
       "  modèles epoch 1 epoch 5 epoch 10 epoch 20\n",
       "0       1       2       3        4        5"
      ]
     },
     "execution_count": 28,
     "metadata": {},
     "output_type": "execute_result"
    }
   ],
   "source": [
    "table2.loc[0] = [1,2,3,4,5]\n",
    "table2"
   ]
  },
  {
   "cell_type": "code",
   "execution_count": null,
   "metadata": {},
   "outputs": [],
   "source": []
  }
 ],
 "metadata": {
  "kernelspec": {
   "display_name": "Python 3",
   "language": "python",
   "name": "python3"
  },
  "language_info": {
   "codemirror_mode": {
    "name": "ipython",
    "version": 3
   },
   "file_extension": ".py",
   "mimetype": "text/x-python",
   "name": "python",
   "nbconvert_exporter": "python",
   "pygments_lexer": "ipython3",
   "version": "3.8.2"
  }
 },
 "nbformat": 4,
 "nbformat_minor": 4
}
